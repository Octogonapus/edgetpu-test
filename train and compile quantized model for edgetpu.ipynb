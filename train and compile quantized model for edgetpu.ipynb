{
 "cells": [
  {
   "cell_type": "code",
   "execution_count": 11,
   "metadata": {
    "scrolled": true
   },
   "outputs": [
    {
     "name": "stdout",
     "output_type": "stream",
     "text": [
      "deb https://packages.cloud.google.com/apt coral-edgetpu-stable main\n",
      "Executing: /tmp/tmp.uhO1gEJ4Kc/gpg.1.sh --keyserver\n",
      "keyserver.ubuntu.com\n",
      "--recv-keys\n",
      "6A030B21BA07F4FB\n",
      "gpg: requesting key BA07F4FB from hkp server keyserver.ubuntu.com\n",
      "gpg: key BA07F4FB: \"Google Cloud Packages Automatic Signing Key <gc-team@google.com>\" not changed\n",
      "gpg: Total number processed: 1\n",
      "gpg:              unchanged: 1\n",
      "Get:1 file:/var/nvinfer-runtime-trt-repo-5.0.2-ga-cuda10.0  InRelease\n",
      "Ign:1 file:/var/nvinfer-runtime-trt-repo-5.0.2-ga-cuda10.0  InRelease\n",
      "Get:2 file:/var/nvinfer-runtime-trt-repo-5.0.2-ga-cuda10.0  Release [574 B]\n",
      "Get:2 file:/var/nvinfer-runtime-trt-repo-5.0.2-ga-cuda10.0  Release [574 B]0m\n",
      "Hit:3 http://archive.ubuntu.com/ubuntu xenial InRelease                        \u001b[0m\u001b[33m\n",
      "Hit:4 http://archive.ubuntu.com/ubuntu xenial-updates InRelease                \u001b[0m\n",
      "Hit:6 http://archive.ubuntu.com/ubuntu xenial-backports InRelease              \u001b[0m3m33m\n",
      "Hit:7 http://security.ubuntu.com/ubuntu xenial-security InRelease              \u001b[0m\u001b[33m\u001b[33m\n",
      "Hit:8 https://packages.cloud.google.com/apt coral-edgetpu-stable InRelease\n",
      "Ign:9 https://developer.download.nvidia.com/compute/cuda/repos/ubuntu1604/x86_64  InRelease\n",
      "Ign:10 https://developer.download.nvidia.com/compute/machine-learning/repos/ubuntu1604/x86_64  InRelease\n",
      "Hit:11 https://developer.download.nvidia.com/compute/cuda/repos/ubuntu1604/x86_64  Release\n",
      "Hit:12 https://developer.download.nvidia.com/compute/machine-learning/repos/ubuntu1604/x86_64  Release\n",
      "Reading package lists... Done[0m\u001b[33m\u001b[33m\u001b[33m\n",
      "Building dependency tree       \n",
      "Reading state information... Done\n",
      "40 packages can be upgraded. Run 'apt list --upgradable' to see them.\n",
      "Reading package lists... Done\n",
      "Building dependency tree       \n",
      "Reading state information... Done\n",
      "The following additional packages will be installed:\n",
      "  edgetpu-compiler libc++1 libc++abi1 libedgetpu1-std\n",
      "Suggested packages:\n",
      "  clang\n",
      "The following NEW packages will be installed:\n",
      "  edgetpu edgetpu-compiler libc++1 libc++abi1 libedgetpu1-std\n",
      "0 upgraded, 5 newly installed, 0 to remove and 40 not upgraded.\n",
      "Need to get 4740 kB of archives.\n",
      "After this operation, 16.7 MB of additional disk space will be used.\n",
      "Get:1 http://archive.ubuntu.com/ubuntu xenial-updates/universe amd64 libc++1 amd64 3.7.0-1ubuntu0.1 [225 kB]\n",
      "Get:2 http://archive.ubuntu.com/ubuntu xenial-updates/universe amd64 libc++abi1 amd64 3.7.0-1ubuntu0.1 [81.0 kB]\n",
      "Get:3 https://packages.cloud.google.com/apt coral-edgetpu-stable/main amd64 edgetpu-compiler amd64 10-2 [3902 kB]\n",
      "Get:4 https://packages.cloud.google.com/apt coral-edgetpu-stable/main amd64 libedgetpu1-std amd64 10-2 [530 kB]\n",
      "Get:5 https://packages.cloud.google.com/apt coral-edgetpu-stable/main amd64 edgetpu all 10-2 [2680 B]\n",
      "Fetched 4740 kB in 0s (7671 kB/s) \u001b[0m\u001b[33m\n",
      "debconf: delaying package configuration, since apt-utils is not installed\n",
      "\n",
      "\u001b7\u001b[0;23r\u001b8\u001b[1ASelecting previously unselected package edgetpu-compiler.\n",
      "(Reading database ... 14274 files and directories currently installed.)\n",
      "Preparing to unpack .../edgetpu-compiler_10-2_amd64.deb ...\n",
      "\u001b7\u001b[24;0f\u001b[42m\u001b[30mProgress: [  0%]\u001b[49m\u001b[39m [..........................................................] \u001b8\u001b7\u001b[24;0f\u001b[42m\u001b[30mProgress: [  3%]\u001b[49m\u001b[39m [###.......................................................] \u001b8Unpacking edgetpu-compiler (10-2) ...\n",
      "\u001b7\u001b[24;0f\u001b[42m\u001b[30mProgress: [  7%]\u001b[49m\u001b[39m [#####.....................................................] \u001b8\u001b7\u001b[24;0f\u001b[42m\u001b[30mProgress: [ 11%]\u001b[49m\u001b[39m [#######...................................................] \u001b8Selecting previously unselected package libc++1:amd64.\n",
      "Preparing to unpack .../libc++1_3.7.0-1ubuntu0.1_amd64.deb ...\n",
      "\u001b7\u001b[24;0f\u001b[42m\u001b[30mProgress: [ 15%]\u001b[49m\u001b[39m [#########.................................................] \u001b8Unpacking libc++1:amd64 (3.7.0-1ubuntu0.1) ...\n",
      "\u001b7\u001b[24;0f\u001b[42m\u001b[30mProgress: [ 19%]\u001b[49m\u001b[39m [############..............................................] \u001b8\u001b7\u001b[24;0f\u001b[42m\u001b[30mProgress: [ 23%]\u001b[49m\u001b[39m [##############............................................] \u001b8Selecting previously unselected package libc++abi1:amd64.\n",
      "Preparing to unpack .../libc++abi1_3.7.0-1ubuntu0.1_amd64.deb ...\n",
      "\u001b7\u001b[24;0f\u001b[42m\u001b[30mProgress: [ 26%]\u001b[49m\u001b[39m [################..........................................] \u001b8Unpacking libc++abi1:amd64 (3.7.0-1ubuntu0.1) ...\n",
      "\u001b7\u001b[24;0f\u001b[42m\u001b[30mProgress: [ 30%]\u001b[49m\u001b[39m [##################........................................] \u001b8\u001b7\u001b[24;0f\u001b[42m\u001b[30mProgress: [ 34%]\u001b[49m\u001b[39m [#####################.....................................] \u001b8Selecting previously unselected package libedgetpu1-std:amd64.\n",
      "Preparing to unpack .../libedgetpu1-std_10-2_amd64.deb ...\n",
      "\u001b7\u001b[24;0f\u001b[42m\u001b[30mProgress: [ 38%]\u001b[49m\u001b[39m [#######################...................................] \u001b8Unpacking libedgetpu1-std:amd64 (10-2) ...\n",
      "\u001b7\u001b[24;0f\u001b[42m\u001b[30mProgress: [ 42%]\u001b[49m\u001b[39m [#########################.................................] \u001b8\u001b7\u001b[24;0f\u001b[42m\u001b[30mProgress: [ 46%]\u001b[49m\u001b[39m [###########################...............................] \u001b8Selecting previously unselected package edgetpu.\n",
      "Preparing to unpack .../archives/edgetpu_10-2_all.deb ...\n",
      "\u001b7\u001b[24;0f\u001b[42m\u001b[30mProgress: [ 50%]\u001b[49m\u001b[39m [#############################.............................] \u001b8Unpacking edgetpu (10-2) ...\n",
      "\u001b7\u001b[24;0f\u001b[42m\u001b[30mProgress: [ 53%]\u001b[49m\u001b[39m [################################..........................] \u001b8\u001b7\u001b[24;0f\u001b[42m\u001b[30mProgress: [ 57%]\u001b[49m\u001b[39m [##################################........................] \u001b8Processing triggers for libc-bin (2.23-0ubuntu11) ...\n",
      "Setting up edgetpu-compiler (10-2) ...\n",
      "\u001b7\u001b[24;0f\u001b[42m\u001b[30mProgress: [ 61%]\u001b[49m\u001b[39m [####################################......................] \u001b8\u001b7\u001b[24;0f\u001b[42m\u001b[30mProgress: [ 65%]\u001b[49m\u001b[39m [######################################....................] \u001b8Setting up libc++1:amd64 (3.7.0-1ubuntu0.1) ...\n",
      "\u001b7\u001b[24;0f\u001b[42m\u001b[30mProgress: [ 69%]\u001b[49m\u001b[39m [#########################################.................] \u001b8\u001b7\u001b[24;0f\u001b[42m\u001b[30mProgress: [ 73%]\u001b[49m\u001b[39m [###########################################...............] \u001b8Setting up libc++abi1:amd64 (3.7.0-1ubuntu0.1) ...\n",
      "\u001b7\u001b[24;0f\u001b[42m\u001b[30mProgress: [ 76%]\u001b[49m\u001b[39m [#############################################.............] \u001b8\u001b7\u001b[24;0f\u001b[42m\u001b[30mProgress: [ 80%]\u001b[49m\u001b[39m [###############################################...........] \u001b8Setting up libedgetpu1-std:amd64 (10-2) ...\n",
      "\u001b7\u001b[24;0f\u001b[42m\u001b[30mProgress: [ 84%]\u001b[49m\u001b[39m [##################################################........] \u001b8\u001b7\u001b[24;0f\u001b[42m\u001b[30mProgress: [ 88%]\u001b[49m\u001b[39m [####################################################......] \u001b8Setting up edgetpu (10-2) ...\n",
      "\u001b7\u001b[24;0f\u001b[42m\u001b[30mProgress: [ 92%]\u001b[49m\u001b[39m [######################################################....] \u001b8\u001b7\u001b[24;0f\u001b[42m\u001b[30mProgress: [ 96%]\u001b[49m\u001b[39m [########################################################..] \u001b8Processing triggers for libc-bin (2.23-0ubuntu11) ...\n",
      "\n",
      "\u001b7\u001b[0;24r\u001b8\u001b[1A\u001b[J"
     ]
    }
   ],
   "source": [
    "!echo \"deb https://packages.cloud.google.com/apt coral-edgetpu-stable main\" | tee /etc/apt/sources.list.d/coral-edgetpu.list\n",
    "!apt-key adv --keyserver keyserver.ubuntu.com --recv-keys 6A030B21BA07F4FB\n",
    "\n",
    "!apt update\n",
    "!apt install edgetpu -y"
   ]
  },
  {
   "cell_type": "code",
   "execution_count": 12,
   "metadata": {},
   "outputs": [
    {
     "name": "stdout",
     "output_type": "stream",
     "text": [
      "1.13.1\n"
     ]
    }
   ],
   "source": [
    "import tensorflow as tf\n",
    "from tensorflow import keras\n",
    "\n",
    "import numpy as np\n",
    "import matplotlib.pyplot as plt\n",
    "\n",
    "print(tf.__version__)"
   ]
  },
  {
   "cell_type": "code",
   "execution_count": 13,
   "metadata": {},
   "outputs": [],
   "source": [
    "fashion_mnist = keras.datasets.fashion_mnist\n",
    "(train_images, train_labels), (test_images, test_labels) = fashion_mnist.load_data()\n",
    "\n",
    "train_images = train_images / 255.0\n",
    "test_images = test_images / 255.0"
   ]
  },
  {
   "cell_type": "code",
   "execution_count": 14,
   "metadata": {},
   "outputs": [],
   "source": [
    "def build_keras_model():\n",
    "    return keras.Sequential([\n",
    "        keras.layers.Flatten(input_shape=(28, 28)),\n",
    "        keras.layers.Dense(128, activation='relu'),\n",
    "        keras.layers.BatchNormalization(),\n",
    "        keras.layers.Dense(10, activation='softmax')\n",
    "    ])"
   ]
  },
  {
   "cell_type": "code",
   "execution_count": 15,
   "metadata": {},
   "outputs": [
    {
     "name": "stdout",
     "output_type": "stream",
     "text": [
      "INFO:tensorflow:Inserting fake quant op activation_Mul_quant after batch_normalization_v1/batchnorm/mul_1\n",
      "INFO:tensorflow:Inserting fake quant op activation_Add_quant after batch_normalization_v1/batchnorm/add_1\n",
      "Epoch 1/5\n",
      "60000/60000 [==============================] - 5s 82us/sample - loss: 0.4841 - acc: 0.8301\n",
      "Epoch 2/5\n",
      "60000/60000 [==============================] - 5s 80us/sample - loss: 0.4031 - acc: 0.8572\n",
      "Epoch 3/5\n",
      "60000/60000 [==============================] - 5s 83us/sample - loss: 0.3731 - acc: 0.8659\n",
      "Epoch 4/5\n",
      "60000/60000 [==============================] - 5s 83us/sample - loss: 0.3533 - acc: 0.8732\n",
      "Epoch 5/5\n",
      "60000/60000 [==============================] - 5s 84us/sample - loss: 0.3393 - acc: 0.8750\n"
     ]
    }
   ],
   "source": [
    "# train\n",
    "train_graph = tf.Graph()\n",
    "train_sess = tf.Session(graph=train_graph)\n",
    "\n",
    "keras.backend.set_session(train_sess)\n",
    "with train_graph.as_default():\n",
    "    train_model = build_keras_model()\n",
    "    \n",
    "    tf.contrib.quantize.create_training_graph(input_graph=train_graph, quant_delay=100)\n",
    "    train_sess.run(tf.global_variables_initializer())    \n",
    "\n",
    "    train_model.compile(\n",
    "        optimizer='adam',\n",
    "        loss='sparse_categorical_crossentropy',\n",
    "        metrics=['accuracy']\n",
    "    )\n",
    "    train_model.fit(train_images, train_labels, epochs=5)\n",
    "    \n",
    "    # save graph and checkpoints\n",
    "    saver = tf.train.Saver()\n",
    "    saver.save(train_sess, 'checkpoints')"
   ]
  },
  {
   "cell_type": "code",
   "execution_count": 16,
   "metadata": {},
   "outputs": [
    {
     "name": "stdout",
     "output_type": "stream",
     "text": [
      "INFO:tensorflow:Inserting fake quant op activation_Mul_quant after batch_normalization_v1/batchnorm/mul_1\n",
      "INFO:tensorflow:Inserting fake quant op activation_Add_quant after batch_normalization_v1/batchnorm/add_1\n",
      "INFO:tensorflow:Restoring parameters from checkpoints\n",
      "INFO:tensorflow:Froze 20 variables.\n",
      "INFO:tensorflow:Converted 20 variables to const ops.\n"
     ]
    }
   ],
   "source": [
    "# eval\n",
    "eval_graph = tf.Graph()\n",
    "eval_sess = tf.Session(graph=eval_graph)\n",
    "\n",
    "keras.backend.set_session(eval_sess)\n",
    "\n",
    "with eval_graph.as_default():\n",
    "    keras.backend.set_learning_phase(0)\n",
    "    eval_model = build_keras_model()\n",
    "    tf.contrib.quantize.create_eval_graph(input_graph=eval_graph)\n",
    "    eval_graph_def = eval_graph.as_graph_def()\n",
    "    saver = tf.train.Saver()\n",
    "    saver.restore(eval_sess, 'checkpoints')\n",
    "\n",
    "    frozen_graph_def = tf.graph_util.convert_variables_to_constants(\n",
    "        eval_sess,\n",
    "        eval_graph_def,\n",
    "        [eval_model.output.op.name]\n",
    "    )\n",
    "\n",
    "    with open('/tf/ml-quantization-test/frozen_model.pb', 'wb') as f:\n",
    "        f.write(frozen_graph_def.SerializeToString())"
   ]
  },
  {
   "cell_type": "code",
   "execution_count": 17,
   "metadata": {},
   "outputs": [
    {
     "name": "stdout",
     "output_type": "stream",
     "text": [
      "2019-06-30 16:16:22.528616: I tensorflow/core/platform/cpu_feature_guard.cc:141] Your CPU supports instructions that this TensorFlow binary was not compiled to use: AVX2 FMA\n",
      "2019-06-30 16:16:22.558682: I tensorflow/stream_executor/cuda/cuda_gpu_executor.cc:998] successful NUMA node read from SysFS had negative value (-1), but there must be at least one NUMA node, so returning NUMA node zero\n",
      "2019-06-30 16:16:22.559096: I tensorflow/compiler/xla/service/service.cc:150] XLA service 0x4635b90 executing computations on platform CUDA. Devices:\n",
      "2019-06-30 16:16:22.559112: I tensorflow/compiler/xla/service/service.cc:158]   StreamExecutor device (0): GeForce GTX 980 Ti, Compute Capability 5.2\n",
      "2019-06-30 16:16:22.580950: I tensorflow/core/platform/profile_utils/cpu_utils.cc:94] CPU Frequency: 3600000000 Hz\n",
      "2019-06-30 16:16:22.581833: I tensorflow/compiler/xla/service/service.cc:150] XLA service 0x469fe10 executing computations on platform Host. Devices:\n",
      "2019-06-30 16:16:22.581847: I tensorflow/compiler/xla/service/service.cc:158]   StreamExecutor device (0): <undefined>, <undefined>\n",
      "2019-06-30 16:16:22.581945: I tensorflow/core/common_runtime/gpu/gpu_device.cc:1433] Found device 0 with properties: \n",
      "name: GeForce GTX 980 Ti major: 5 minor: 2 memoryClockRate(GHz): 1.076\n",
      "pciBusID: 0000:01:00.0\n",
      "totalMemory: 5.94GiB freeMemory: 95.44MiB\n",
      "2019-06-30 16:16:22.581957: I tensorflow/core/common_runtime/gpu/gpu_device.cc:1512] Adding visible gpu devices: 0\n",
      "2019-06-30 16:16:22.582439: I tensorflow/core/common_runtime/gpu/gpu_device.cc:984] Device interconnect StreamExecutor with strength 1 edge matrix:\n",
      "2019-06-30 16:16:22.582450: I tensorflow/core/common_runtime/gpu/gpu_device.cc:990]      0 \n",
      "2019-06-30 16:16:22.582454: I tensorflow/core/common_runtime/gpu/gpu_device.cc:1003] 0:   N \n",
      "2019-06-30 16:16:22.582517: I tensorflow/core/common_runtime/gpu/gpu_device.cc:1115] Created TensorFlow device (/job:localhost/replica:0/task:0/device:GPU:0 with 95 MB memory) -> physical GPU (device: 0, name: GeForce GTX 980 Ti, pci bus id: 0000:01:00.0, compute capability: 5.2)\n"
     ]
    }
   ],
   "source": [
    "!tflite_convert \\\n",
    "    --output_file=/tf/ml-quantization-test/model.tflite \\\n",
    "    --graph_def_file=/tf/ml-quantization-test/frozen_model.pb \\\n",
    "    --inference_type=QUANTIZED_UINT8 \\\n",
    "    --input_arrays=flatten_input \\\n",
    "    --output_arrays=dense_1/Softmax \\\n",
    "    --mean_values=0 \\\n",
    "    --std_dev_values=255"
   ]
  },
  {
   "cell_type": "code",
   "execution_count": 18,
   "metadata": {},
   "outputs": [
    {
     "name": "stdout",
     "output_type": "stream",
     "text": [
      "Edge TPU Compiler version 1.0.249710469\r\n",
      "INFO: Initialized TensorFlow Lite runtime.\r\n",
      "\r\n",
      "Model compiled successfully in 11 ms.\r\n",
      "\r\n",
      "Input model: /tf/ml-quantization-test/model.tflite\r\n",
      "Input size: 102.27KiB\r\n",
      "Output model: model_edgetpu.tflite\r\n",
      "Output size: 152.55KiB\r\n",
      "On-chip memory available for caching model parameters: 8.01MiB\r\n",
      "On-chip memory used for caching model parameters: 106.75KiB\r\n",
      "Off-chip memory used for streaming uncached model parameters: 4.00KiB\r\n",
      "Number of Edge TPU subgraphs: 1\r\n",
      "Total number of operations: 5\r\n",
      "Operation log: model_edgetpu.log\r\n",
      "See the operation log file for individual operation details.\r\n"
     ]
    }
   ],
   "source": [
    "!edgetpu_compiler /tf/ml-quantization-test/model.tflite"
   ]
  },
  {
   "cell_type": "code",
   "execution_count": null,
   "metadata": {},
   "outputs": [],
   "source": []
  }
 ],
 "metadata": {
  "kernelspec": {
   "display_name": "Python 3",
   "language": "python",
   "name": "python3"
  },
  "language_info": {
   "codemirror_mode": {
    "name": "ipython",
    "version": 3
   },
   "file_extension": ".py",
   "mimetype": "text/x-python",
   "name": "python",
   "nbconvert_exporter": "python",
   "pygments_lexer": "ipython3",
   "version": "3.5.2"
  }
 },
 "nbformat": 4,
 "nbformat_minor": 2
}
